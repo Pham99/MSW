{
 "cells": [
  {
   "cell_type": "markdown",
   "metadata": {},
   "source": [
    "# 1. Knihovny a moduly pro matematické výpočty"
   ]
  },
  {
   "cell_type": "code",
   "execution_count": 47,
   "metadata": {},
   "outputs": [],
   "source": [
    "import numpy\n",
    "import time\n",
    "\n",
    "# časovač\n",
    "def timer(funkce, *argument):\n",
    "    start_timer = time.perf_counter_ns()\n",
    "    vysledek = funkce(*argument)\n",
    "    end_timer = time.perf_counter_ns()\n",
    "    return (end_timer - start_timer) / 1_000_000_000, vysledek"
   ]
  },
  {
   "cell_type": "markdown",
   "metadata": {},
   "source": [
    "## 1. Skalární součin"
   ]
  },
  {
   "cell_type": "code",
   "execution_count": 48,
   "metadata": {},
   "outputs": [
    {
     "name": "stdout",
     "output_type": "stream",
     "text": [
      "Výsledek numpy: 202450205\t čas: 0.004968 sekund\n",
      "Výsledek python: 202450205\t čas: 0.7568943 sekund\n"
     ]
    }
   ],
   "source": [
    "# vytvoříme 2 vektory náhodných čísel\n",
    "pole_1_np = numpy.random.randint(1,9,(10_000_000))\n",
    "pole_2_np = numpy.random.randint(1,9,(10_000_000))\n",
    "\n",
    "# přetypujeme na standartní python list\n",
    "list_1_pth = pole_1_np.tolist()\n",
    "list_2_pth = pole_2_np.tolist()\n",
    "\n",
    "# skalární součin běžným pythonem\n",
    "def skalar_pth(seznam1, seznam2):\n",
    "    return sum([i[0]*i[1] for i in zip(seznam1, seznam2)])\n",
    "\n",
    "# porovnání\n",
    "cas_np, out_np = timer(numpy.dot, pole_1_np, pole_2_np)\n",
    "cas_pth, out_pth = timer(skalar_pth, list_1_pth, list_2_pth)\n",
    "\n",
    "print(f\"Výsledek numpy: {out_np}\\t čas: {cas_np} sekund\")\n",
    "print(f\"Výsledek python: {out_pth}\\t čas: {cas_pth} sekund\")"
   ]
  },
  {
   "cell_type": "markdown",
   "metadata": {},
   "source": [
    "## 2. Determinant matice"
   ]
  },
  {
   "cell_type": "code",
   "execution_count": 49,
   "metadata": {},
   "outputs": [],
   "source": [
    "# pomocná funkce\n",
    "def remove_sloupec(vektor, sloupec):\n",
    "    vektor2 = vektor.copy()\n",
    "    vektor2.pop(sloupec)\n",
    "    return vektor2\n",
    "\n",
    "# determinant běžným pythonem pomocí Laplaceova rozvoje podle 1. řádku bez ůprav\n",
    "def determinant_python(matice):\n",
    "    velikost_matice = len(matice)\n",
    "    if velikost_matice != len(matice[0]):\n",
    "        raise ValueError(\"Matice není čtvercová.\")\n",
    "    determinant = 0\n",
    "    \n",
    "    if velikost_matice == 2:\n",
    "        return matice[0][0] * matice[1][1] - matice[0][1] * matice[1][0]\n",
    "    \n",
    "    for i in range(velikost_matice):\n",
    "        if i % 2 == 0:\n",
    "            k = 1\n",
    "        else:\n",
    "            k = -1\n",
    "        determinant += k * matice[0][i] * determinant_python([remove_sloupec(y, i) for y in matice[1:]])\n",
    "    \n",
    "    return determinant"
   ]
  },
  {
   "cell_type": "code",
   "execution_count": 55,
   "metadata": {},
   "outputs": [
    {
     "name": "stdout",
     "output_type": "stream",
     "text": [
      "Výsledek numpy: 6935219931.999999\t čas: 0.000131 sekund\n",
      "Výsledek python: 6935219932\t čas: 1.8161822 sekund\n"
     ]
    }
   ],
   "source": [
    "# vytvoření matice s náhodnými prvky\n",
    "dimenze = 10\n",
    "matice_numpy = numpy.random.randint(-9, 9, (dimenze, dimenze))\n",
    "matice = matice_numpy.tolist()\n",
    "\n",
    "# porovnání\n",
    "cas_np, out_np = timer(numpy.linalg.det, matice_numpy)\n",
    "cas_pth, out_pth = timer(determinant_python, matice)\n",
    "\n",
    "print(f\"Výsledek numpy: {out_np}\\t čas: {cas_np} sekund\")\n",
    "print(f\"Výsledek python: {out_pth}\\t čas: {cas_pth} sekund\")"
   ]
  },
  {
   "cell_type": "markdown",
   "metadata": {},
   "source": [
    "## 3. Násobení matice s maticí"
   ]
  },
  {
   "cell_type": "code",
   "execution_count": 51,
   "metadata": {},
   "outputs": [],
   "source": [
    "# funkce na nasobení matic\n",
    "def nasob_matic(matice_1, matice_2):\n",
    "    sirka_matice_1 = len(matice_1[0])\n",
    "    sirka_matice_2 = len(matice_2[0])\n",
    "    vyska_matice_2 = len(matice_2)\n",
    "    vyska_matice_1 = len(matice_1)\n",
    "    \n",
    "    if sirka_matice_1 != vyska_matice_2:\n",
    "        raise ValueError(\"Šířka první matice musí být roven výšce druhé matice\")\n",
    "    \n",
    "    vysledek = []\n",
    "    for n in range(vyska_matice_1):\n",
    "        radek = []\n",
    "        for y in range(sirka_matice_2):\n",
    "            prvek = 0\n",
    "            for i in range(sirka_matice_1):\n",
    "                prvek += matice_1[n][i] * matice_2[i][y]\n",
    "            radek.append(prvek)\n",
    "        vysledek.append(radek)\n",
    "    return vysledek"
   ]
  },
  {
   "cell_type": "code",
   "execution_count": 53,
   "metadata": {},
   "outputs": [
    {
     "name": "stdout",
     "output_type": "stream",
     "text": [
      "Čas numpy: 0.0010577 sekund\n",
      "Čas python: 0.2587326 sekund\n"
     ]
    }
   ],
   "source": [
    "# vytvoření dvou matic\n",
    "vyska_1 = 100\n",
    "sirka_1 = 100\n",
    "matice_numpy_1 = numpy.random.randint(1, 9, (vyska_1, sirka_1))\n",
    "vyska_2 = 100\n",
    "sirka_2 = 100\n",
    "matice_numpy_2 = numpy.random.randint(1, 9, (vyska_2, sirka_2))\n",
    "matice_python_1 = matice_numpy_1.tolist()\n",
    "matice_python_2 = matice_numpy_2.tolist()\n",
    "\n",
    "# porovnání\n",
    "cas_np, out_np = timer(numpy.matmul, matice_numpy_1, matice_numpy_2)\n",
    "cas_pth, out_pth = timer(nasob_matic, matice_python_1, matice_numpy_2)\n",
    "\n",
    "# výpis (jen při menších velikostech)\n",
    "if sirka_1 <= 10 and vyska_2 <= 10:\n",
    "    print(f\"Originální matice:\\n{matice_numpy}\")\n",
    "    print(f\"Výsledek numpy:\\n {out_np}\")\n",
    "    print(f\"Výsledek python:\")\n",
    "    for x in out_pth:\n",
    "        print(x)\n",
    "        \n",
    "print(f\"Čas numpy: {cas_np:.7f} sekund\")\n",
    "print(f\"Čas python: {cas_pth:.7f} sekund\")\n",
    "\n"
   ]
  },
  {
   "cell_type": "markdown",
   "metadata": {},
   "source": [
    "## 4. Transpozice matice"
   ]
  },
  {
   "cell_type": "code",
   "execution_count": 54,
   "metadata": {},
   "outputs": [
    {
     "name": "stdout",
     "output_type": "stream",
     "text": [
      "Čas numpy: 0.0001621 sekund\n",
      "Čas python: 1.5543221 sekund\n"
     ]
    }
   ],
   "source": [
    "# vytvoření matice\n",
    "vyska = 5000\n",
    "sirka = 5000\n",
    "matice_numpy = numpy.random.randint(1, 9, (vyska, sirka))\n",
    "matice_python = matice_numpy.tolist()\n",
    "\n",
    "# funkce na transpozici matice\n",
    "def transpozice_python(matice):\n",
    "    sirka_matice = len(matice[0])\n",
    "    vyska_matice = len(matice)\n",
    "\n",
    "    transponovany = []\n",
    "    for y in range(sirka_matice):\n",
    "        radek = []\n",
    "        for i in range(vyska_matice):\n",
    "            radek.append(matice[i][y])\n",
    "        transponovany.append(radek)\n",
    "    return transponovany\n",
    "\n",
    "# porovnání\n",
    "cas_np, out_np = timer(numpy.transpose, matice_numpy)\n",
    "cas_pth, out_pth = timer(transpozice_python, matice_python)\n",
    "\n",
    "# výpis (jen při menších velikostech)\n",
    "if sirka <= 5 and vyska <= 5:\n",
    "    print(f\"Originální matice:\\n{matice_numpy}\")\n",
    "    print(f\"Výsledek numpy:\\n {out_np}\")\n",
    "    print(f\"Výsledek python:\")\n",
    "    for x in out_pth:\n",
    "        print(x)\n",
    "        \n",
    "print(f\"Čas numpy: {cas_np:.7f} sekund\")\n",
    "print(f\"Čas python: {cas_pth:.7f} sekund\")"
   ]
  },
  {
   "cell_type": "markdown",
   "metadata": {},
   "source": [
    "## 5. Určitý integrál"
   ]
  },
  {
   "cell_type": "code",
   "execution_count": 17,
   "metadata": {},
   "outputs": [],
   "source": [
    "# funkce na výpočet určitého integrálu pomocí lichoběžníků\n",
    "def integral_pth(f, a, b, presnost):\n",
    "    if a > b:\n",
    "        raise ValueError(\"a musí být menší než b\")\n",
    "    dx = abs(a) + abs(b) / presnost\n",
    "    obsah = 0\n",
    "    x = a\n",
    "    while x < b:\n",
    "        obdelnik = f(x) * dx\n",
    "        trojuhelnik = (f(x + dx) - f(x)) * dx / 2\n",
    "        obsah += obdelnik + trojuhelnik\n",
    "        x += dx\n",
    "    return obsah\n"
   ]
  },
  {
   "cell_type": "code",
   "execution_count": 56,
   "metadata": {},
   "outputs": [
    {
     "name": "stdout",
     "output_type": "stream",
     "text": [
      "Výsledek numpy: 12.0\t čas: 0.2135192 sekund\n",
      "Výsledek python: 11.99999999999244\t čas: 0.0000515 sekund\n"
     ]
    }
   ],
   "source": [
    "# funkce kterou počítáme\n",
    "def f(x): \n",
    "    return -x**3 + 3*x**2 + 1\n",
    "\n",
    "od = -1\n",
    "do = 3\n",
    "presnost = 10000000\n",
    "\n",
    "# příprava pro numpy, časovat se bude jen samotný výpočet\n",
    "dx = numpy.linspace(od, do, presnost)\n",
    "x = f(dx)\n",
    "\n",
    "# porovnání\n",
    "cas_np, out_np = timer(numpy.trapz, x, dx)\n",
    "cas_pth, out_pth = timer(integral_pth, f, od, do, presnost)\n",
    "\n",
    "print(f\"Výsledek numpy: {out_np}\\t čas: {cas_np:.7f} sekund\")\n",
    "print(f\"Výsledek python: {out_pth}\\t čas: {cas_pth:.7f} sekund\")"
   ]
  }
 ],
 "metadata": {
  "kernelspec": {
   "display_name": "Python 3",
   "language": "python",
   "name": "python3"
  },
  "language_info": {
   "codemirror_mode": {
    "name": "ipython",
    "version": 3
   },
   "file_extension": ".py",
   "mimetype": "text/x-python",
   "name": "python",
   "nbconvert_exporter": "python",
   "pygments_lexer": "ipython3",
   "version": "3.11.4"
  },
  "orig_nbformat": 4
 },
 "nbformat": 4,
 "nbformat_minor": 2
}
