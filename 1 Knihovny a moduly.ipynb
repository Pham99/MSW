{
 "cells": [
  {
   "cell_type": "markdown",
   "metadata": {},
   "source": [
    "### 1. Knihovny a moduly pro matematické výpočty"
   ]
  },
  {
   "cell_type": "code",
   "execution_count": 2,
   "metadata": {},
   "outputs": [],
   "source": [
    "import numpy\n",
    "import random\n",
    "import time"
   ]
  },
  {
   "cell_type": "code",
   "execution_count": 123,
   "metadata": {},
   "outputs": [],
   "source": [
    "def timer(funkce, *argument):\n",
    "    start_timer = time.perf_counter_ns()\n",
    "    vysledek = funkce(*argument)\n",
    "    end_timer = time.perf_counter_ns()\n",
    "    return (end_timer - start_timer) / 1_000_000_000, vysledek"
   ]
  },
  {
   "cell_type": "markdown",
   "metadata": {},
   "source": [
    "#### Skalární součin"
   ]
  },
  {
   "cell_type": "code",
   "execution_count": 126,
   "metadata": {},
   "outputs": [
    {
     "name": "stdout",
     "output_type": "stream",
     "text": [
      "Výsledek numpy: 202509132\t čas: 0.0046279 sekund\n",
      "Výsledek python: 202509132\t čas: 0.5733321 sekund\n"
     ]
    }
   ],
   "source": [
    "# vytvoříme 2 vektory náhodných čísel\n",
    "pole_1_np = numpy.random.randint(1,9,(10_000_000))\n",
    "pole_2_np = numpy.random.randint(1,9,(10_000_000))\n",
    "\n",
    "# přetypujeme na standartní python list\n",
    "list_1_pth = pole_1_np.tolist()\n",
    "list_2_pth = pole_2_np.tolist()\n",
    "\n",
    "# skalární součin běžným pythonem\n",
    "def skalar_pth(seznam1, seznam2):\n",
    "    return sum([i[0]*i[1] for i in zip(seznam1, seznam2)])\n",
    "\n",
    "# porovnání\n",
    "cas_np, out_np = timer(numpy.dot, pole_1_np, pole_2_np)\n",
    "cas_pth, out_pth = timer(skalar_pth, list_1_pth, list_2_pth)\n",
    "\n",
    "print(f\"Výsledek numpy: {out_np}\\t čas: {cas_np} sekund\")\n",
    "print(f\"Výsledek python: {out_pth}\\t čas: {cas_pth} sekund\")"
   ]
  },
  {
   "cell_type": "markdown",
   "metadata": {},
   "source": [
    "#### Determinant"
   ]
  },
  {
   "cell_type": "code",
   "execution_count": 109,
   "metadata": {},
   "outputs": [],
   "source": [
    "# pomocná funkce\n",
    "def remove_sloupec(vektor, sloupec):\n",
    "    vektor2 = vektor.copy()\n",
    "    vektor2.pop(sloupec)\n",
    "    return vektor2\n",
    "\n",
    "# determinant běžným pythonem pomocí Laplaceova rozvoje podle 1. řádku bez ůprav\n",
    "def determinant_python(matice):\n",
    "    velikost_matice = len(matice)\n",
    "    determinant = 0\n",
    "    \n",
    "    if velikost_matice == 2:\n",
    "        return matice[0][0] * matice[1][1] - matice[0][1] * matice[1][0]\n",
    "    \n",
    "    for i in range(velikost_matice):\n",
    "        if i % 2 == 0:\n",
    "            k = 1\n",
    "        else:\n",
    "            k = -1\n",
    "        determinant += k * matice[0][i] * determinant_python([remove_sloupec(y, i) for y in matice[1:]])\n",
    "    \n",
    "    return determinant"
   ]
  },
  {
   "cell_type": "code",
   "execution_count": 130,
   "metadata": {},
   "outputs": [
    {
     "name": "stdout",
     "output_type": "stream",
     "text": [
      "Výsledek numpy: -119738815063.9995\t čas: 6.15e-05 sekund\n",
      "Výsledek python: -119738815064\t čas: 20.089334 sekund\n"
     ]
    }
   ],
   "source": [
    "# vytvoření matice s náhodnými prvky\n",
    "dimenze = 11\n",
    "matice_numpy = numpy.random.randint(-9, 9, (dimenze, dimenze))\n",
    "matice_python = matice_numpy.tolist()\n",
    "\n",
    "# porovnání\n",
    "cas_np, out_np = timer(numpy.linalg.det, matice_numpy)\n",
    "cas_pth, out_pth = timer(determinant_python, matice_python)\n",
    "\n",
    "print(f\"Výsledek numpy: {out_np}\\t čas: {cas_np} sekund\")\n",
    "print(f\"Výsledek python: {out_pth}\\t čas: {cas_pth} sekund\")"
   ]
  },
  {
   "cell_type": "markdown",
   "metadata": {},
   "source": [
    "#### Určitý integrál"
   ]
  },
  {
   "cell_type": "code",
   "execution_count": 45,
   "metadata": {},
   "outputs": [
    {
     "name": "stdout",
     "output_type": "stream",
     "text": [
      "[[8, 6, 2], [3, 3, 3], [0, 4, 6]]\n",
      "[[3, 3], [0, 6]]\n"
     ]
    }
   ],
   "source": [
    "\n",
    "numpy.\n"
   ]
  },
  {
   "cell_type": "code",
   "execution_count": 149,
   "metadata": {},
   "outputs": [
    {
     "name": "stdout",
     "output_type": "stream",
     "text": [
      "Výsledek numpy: \t čas: 0.0018863 sekund\n",
      "Výsledek python: \t čas: 62.4214096 sekund\n"
     ]
    }
   ],
   "source": [
    "dimenze = 20000\n",
    "matice_numpy = numpy.random.randint(1, 9, (dimenze, dimenze))\n",
    "matice_python = matice_numpy.tolist()\n",
    "velikost_matice = len(matice_python)\n",
    "\n",
    "def transpozice_python(matice_python):\n",
    "    transponovany = []\n",
    "    for y in range(velikost_matice):\n",
    "        radek = []\n",
    "        for i in range(velikost_matice):\n",
    "            radek.append(matice_python[i][y])\n",
    "        transponovany.append(radek)\n",
    "    return transponovany\n",
    "\n",
    "\n",
    "cas_np, out_np = timer(numpy.transpose, matice_numpy)\n",
    "cas_pth, out_pth = timer(transpozice_python, matice_python)\n",
    "\n",
    "print(f\"Výsledek numpy: \\t čas: {cas_np} sekund\")\n",
    "print(f\"Výsledek python: \\t čas: {cas_pth} sekund\")"
   ]
  }
 ],
 "metadata": {
  "kernelspec": {
   "display_name": "Python 3",
   "language": "python",
   "name": "python3"
  },
  "language_info": {
   "codemirror_mode": {
    "name": "ipython",
    "version": 3
   },
   "file_extension": ".py",
   "mimetype": "text/x-python",
   "name": "python",
   "nbconvert_exporter": "python",
   "pygments_lexer": "ipython3",
   "version": "3.11.4"
  },
  "orig_nbformat": 4
 },
 "nbformat": 4,
 "nbformat_minor": 2
}
