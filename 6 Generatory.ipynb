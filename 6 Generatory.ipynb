{
 "cells": [
  {
   "cell_type": "markdown",
   "metadata": {},
   "source": [
    "# 6. Generování náhodných čísel"
   ]
  },
  {
   "cell_type": "code",
   "execution_count": 133,
   "metadata": {},
   "outputs": [],
   "source": [
    "import random\n",
    "import time\n",
    "import pyautogui\n",
    "import psutil"
   ]
  },
  {
   "cell_type": "code",
   "execution_count": 180,
   "metadata": {},
   "outputs": [
    {
     "name": "stdout",
     "output_type": "stream",
     "text": [
      "7.182574272155762\n",
      "Mouse pointer coordinates: x=436, y=668\n",
      "16\n"
     ]
    },
    {
     "data": {
      "text/plain": [
       "svmem(total=14702026752, available=3075280896, percent=79.1, used=11626745856, free=3075280896)"
      ]
     },
     "execution_count": 180,
     "metadata": {},
     "output_type": "execute_result"
    }
   ],
   "source": [
    "a = time.time()\n",
    "a = (a - int(a)) * 10\n",
    "print(a)\n",
    "x, y = pyautogui.position()\n",
    "\n",
    "# Print the coordinates\n",
    "print(f\"Mouse pointer coordinates: x={x}, y={y}\")\n",
    "\n",
    "print(psutil.cpu_count())\n",
    "psutil.cpu_percent()\n",
    "psutil.disk_io_counters()\n",
    "psutil.net_io_counters()\n",
    "psutil.virtual_memory()\n"
   ]
  }
 ],
 "metadata": {
  "kernelspec": {
   "display_name": "Python 3",
   "language": "python",
   "name": "python3"
  },
  "language_info": {
   "codemirror_mode": {
    "name": "ipython",
    "version": 3
   },
   "file_extension": ".py",
   "mimetype": "text/x-python",
   "name": "python",
   "nbconvert_exporter": "python",
   "pygments_lexer": "ipython3",
   "version": "3.11.4"
  },
  "orig_nbformat": 4
 },
 "nbformat": 4,
 "nbformat_minor": 2
}
