{
 "cells": [
  {
   "cell_type": "markdown",
   "metadata": {},
   "source": [
    "# 5. Hledání kořenů rovnice"
   ]
  },
  {
   "cell_type": "code",
   "execution_count": 48,
   "metadata": {},
   "outputs": [],
   "source": [
    "from scipy import optimize as opt\n",
    "import numpy\n",
    "import time"
   ]
  },
  {
   "cell_type": "code",
   "execution_count": 79,
   "metadata": {},
   "outputs": [],
   "source": [
    "# časovač\n",
    "def timer(funkce, *argument):\n",
    "    start_timer = time.perf_counter_ns()\n",
    "    vysledek = funkce(*argument)\n",
    "    end_timer = time.perf_counter_ns()\n",
    "    print(f\"{funkce.__name__} čas: {((end_timer - start_timer) / 1_000_000_000):.7f}\\t vysledek: {vysledek}\")"
   ]
  },
  {
   "cell_type": "code",
   "execution_count": 37,
   "metadata": {},
   "outputs": [],
   "source": [
    "# polynomiální funkce\n",
    "def polynom(x):\n",
    "    return 6*x**3 - x**2 - 1\n",
    "\n",
    "# logaritmická funkce\n",
    "def log(x):\n",
    "    return 2*numpy.log2(x - 1) + 2\n",
    "\n",
    "# goniometrická funkce\n",
    "def goniometric(x):\n",
    "    return 3*numpy.sin(x) + x/5"
   ]
  },
  {
   "cell_type": "code",
   "execution_count": 101,
   "metadata": {},
   "outputs": [
    {
     "name": "stdout",
     "output_type": "stream",
     "text": [
      "Polynomiální funkce:\n",
      "bisect čas: 0.0001416\t vysledek: 0.6118583185020725\n",
      "newton čas: 0.0005537\t vysledek: 0.6118583185012075\n",
      "Logaritmická funkce:\n",
      "bisect čas: 0.0001662\t vysledek: 1.4999999999987725\n",
      "newton čas: 0.0002852\t vysledek: 1.5\n",
      "Goniometrická funkce:\n",
      "bisect čas: 0.0000866\t vysledek: 3.3680609377279325\n",
      "newton čas: 0.0001580\t vysledek: 3.3680609377262827\n"
     ]
    }
   ],
   "source": [
    "print(\"Polynomiální funkce:\")\n",
    "timer(opt.bisect, polynom, -1, 5)\n",
    "timer(opt.newton, polynom, 3)\n",
    "\n",
    "print(\"Logaritmická funkce:\")\n",
    "timer(opt.bisect, log, 1.1, 4)\n",
    "timer(opt.newton, log, 2)\n",
    "\n",
    "print(\"Goniometrická funkce:\")\n",
    "timer(opt.bisect, goniometric, 2, 4)\n",
    "timer(opt.newton, goniometric, 4)"
   ]
  },
  {
   "cell_type": "code",
   "execution_count": 182,
   "metadata": {},
   "outputs": [
    {
     "name": "stdout",
     "output_type": "stream",
     "text": [
      "Bisekce čas: 0.0002155\n",
      "Newton čas: 0.0007614\n"
     ]
    }
   ],
   "source": [
    "# pokus se \"špatným\" odhadem\n",
    "a = time.perf_counter_ns()\n",
    "opt.bisect(polynom, -1, 300, maxiter=1000000)\n",
    "b = time.perf_counter_ns()\n",
    "print(f\"Bisekce čas: {(b - a) / 1_000_000_000}\")\n",
    "\n",
    "a = time.perf_counter_ns()\n",
    "opt.newton(polynom, 300, maxiter=1000000)\n",
    "b = time.perf_counter_ns()\n",
    "print(f\"Newton čas: {(b - a) / 1_000_000_000}\")"
   ]
  }
 ],
 "metadata": {
  "kernelspec": {
   "display_name": "Python 3",
   "language": "python",
   "name": "python3"
  },
  "language_info": {
   "codemirror_mode": {
    "name": "ipython",
    "version": 3
   },
   "file_extension": ".py",
   "mimetype": "text/x-python",
   "name": "python",
   "nbconvert_exporter": "python",
   "pygments_lexer": "ipython3",
   "version": "3.11.4"
  },
  "orig_nbformat": 4
 },
 "nbformat": 4,
 "nbformat_minor": 2
}
